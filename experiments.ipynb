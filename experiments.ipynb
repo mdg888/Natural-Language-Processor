{
 "cells": [
  {
   "cell_type": "markdown",
   "id": "22f9df28",
   "metadata": {},
   "source": [
    "# NLP Demonstration with Jupyter Notebook"
   ]
  },
  {
   "cell_type": "markdown",
   "id": "6a7292cf",
   "metadata": {},
   "source": [
    "## Load Training Data"
   ]
  },
  {
   "cell_type": "code",
   "execution_count": 1,
   "id": "62707511",
   "metadata": {},
   "outputs": [],
   "source": [
    "import pandas as pd\n",
    "\n",
    "# import all training data\n",
    "data = pd.read_csv(\"data/emails.csv\")\n",
    "data = data[['text', 'spam']]\n"
   ]
  },
  {
   "cell_type": "code",
   "execution_count": 2,
   "id": "51bd6bba",
   "metadata": {},
   "outputs": [
    {
     "name": "stdout",
     "output_type": "stream",
     "text": [
      "                                                   text spam\n",
      "0     Subject: naturally irresistible your corporate...    1\n",
      "1     Subject: the stock trading gunslinger  fanny i...    1\n",
      "2     Subject: unbelievable new homes made easy  im ...    1\n",
      "3     Subject: 4 color printing special  request add...    1\n",
      "4     Subject: do not have money , get software cds ...    1\n",
      "...                                                 ...  ...\n",
      "5725  Subject: re : research and development charges...    0\n",
      "5726  Subject: re : receipts from visit  jim ,  than...    0\n",
      "5727  Subject: re : enron case study update  wow ! a...    0\n",
      "5728  Subject: re : interest  david ,  please , call...    0\n",
      "5729  Subject: news : aurora 5 . 2 update  aurora ve...    0\n",
      "\n",
      "[5730 rows x 2 columns]\n"
     ]
    }
   ],
   "source": [
    "# show data\n",
    "print(data)"
   ]
  },
  {
   "cell_type": "markdown",
   "id": "e98175c7",
   "metadata": {},
   "source": [
    "## Initialise Model"
   ]
  },
  {
   "cell_type": "code",
   "execution_count": 3,
   "id": "e9aa1589-4d8b-40b6-95ff-81d3f48b5898",
   "metadata": {},
   "outputs": [],
   "source": [
    "# set correct inports\n",
    "from src.model import SpamModel\n",
    "from src.lemmantisation import lemmantisation\n",
    "from src.porter_stemmer import run_porter\n",
    "from src.stop_words import remove_stopwords\n",
    "from src.nlp import nlp\n",
    "from src.tokenisation import tokenise\n",
    "\n",
    "model = SpamModel(\n",
    "    tokenise,\n",
    "    remove_stopwords, \n",
    "    lemmantisation,\n",
    "    run_porter,\n",
    "    nlp\n",
    ")"
   ]
  },
  {
   "cell_type": "markdown",
   "id": "1853d90e",
   "metadata": {},
   "source": [
    "## Train the Model"
   ]
  },
  {
   "cell_type": "code",
   "execution_count": 4,
   "id": "bae86e7d",
   "metadata": {},
   "outputs": [],
   "source": [
    "# Choose your preprocessing strategy\n",
    "# Choose '1' -> Lemmantization \n",
    "# Choose '2' -> Porter Stemmer\n",
    "\n",
    "data = model.train_model(data,2)"
   ]
  },
  {
   "cell_type": "markdown",
   "id": "81fd7690",
   "metadata": {},
   "source": [
    "## Test Examples"
   ]
  },
  {
   "cell_type": "markdown",
   "id": "c769dd0c",
   "metadata": {},
   "source": [
    "#### Testing with Lemmantisation Preprocessing"
   ]
  },
  {
   "cell_type": "code",
   "execution_count": 5,
   "id": "b08bdfd5-8894-43b3-a6f1-15f2048e9267",
   "metadata": {},
   "outputs": [
    {
     "name": "stdout",
     "output_type": "stream",
     "text": [
      "SPAM\n"
     ]
    }
   ],
   "source": [
    "data_test = pd.DataFrame(\n",
    "    {\n",
    "    'text': ['Hi pione get rich quick encod iast']\n",
    "    }\n",
    ")\n",
    "predict = model.predict(data_test)\n",
    "print(predict)"
   ]
  },
  {
   "cell_type": "code",
   "execution_count": 6,
   "id": "d0b21445",
   "metadata": {},
   "outputs": [
    {
     "name": "stdout",
     "output_type": "stream",
     "text": [
      "HAM\n"
     ]
    }
   ],
   "source": [
    "data_test = pd.DataFrame(\n",
    "    {\n",
    "    'text': ['Hi there']\n",
    "    }\n",
    ")\n",
    "predict = model.predict(data_test)\n",
    "print(predict)"
   ]
  },
  {
   "cell_type": "code",
   "execution_count": 7,
   "id": "d58b064b",
   "metadata": {},
   "outputs": [
    {
     "name": "stdout",
     "output_type": "stream",
     "text": [
      "SPAM\n"
     ]
    }
   ],
   "source": [
    "data_test = pd.DataFrame(\n",
    "    {\n",
    "    'text': [\"I'm going to be rich!\"]\n",
    "    }\n",
    ")\n",
    "predict = model.predict(data_test)\n",
    "print(predict)"
   ]
  },
  {
   "cell_type": "markdown",
   "id": "40146132",
   "metadata": {},
   "source": [
    "#### Testing with Porter Stemming"
   ]
  },
  {
   "cell_type": "code",
   "execution_count": 8,
   "id": "4ba941d2",
   "metadata": {},
   "outputs": [],
   "source": [
    "# reload data \n",
    "data = pd.read_csv(\"data/emails.csv\")\n",
    "data = data[['text', 'spam']]"
   ]
  },
  {
   "cell_type": "code",
   "execution_count": 9,
   "id": "f2eea75e",
   "metadata": {},
   "outputs": [],
   "source": [
    "model = SpamModel(\n",
    "    tokenise,\n",
    "    remove_stopwords, \n",
    "    lemmantisation,\n",
    "    run_porter,\n",
    "    nlp\n",
    ")"
   ]
  },
  {
   "cell_type": "code",
   "execution_count": 10,
   "id": "49cdb2db",
   "metadata": {},
   "outputs": [],
   "source": [
    "# Choose your preprocessing strategy\n",
    "# Choose '1' -> Lemmantization \n",
    "# Choose '2' -> Porter Stemmer\n",
    "data = model.train_model(data,2)"
   ]
  },
  {
   "cell_type": "code",
   "execution_count": 11,
   "id": "cde16342",
   "metadata": {},
   "outputs": [
    {
     "name": "stdout",
     "output_type": "stream",
     "text": [
      "SPAM\n"
     ]
    }
   ],
   "source": [
    "data_test = pd.DataFrame(\n",
    "    {\n",
    "    'text': ['Hi pione get rich quick encod iast']\n",
    "    }\n",
    ")\n",
    "predict = model.predict(data_test)\n",
    "print(predict)"
   ]
  },
  {
   "cell_type": "code",
   "execution_count": 12,
   "id": "420de880",
   "metadata": {},
   "outputs": [
    {
     "name": "stdout",
     "output_type": "stream",
     "text": [
      "HAM\n"
     ]
    }
   ],
   "source": [
    "data_test = pd.DataFrame(\n",
    "    {\n",
    "    'text': ['Hi there']\n",
    "    }\n",
    ")\n",
    "predict = model.predict(data_test)\n",
    "print(predict)"
   ]
  },
  {
   "cell_type": "code",
   "execution_count": 13,
   "id": "1e5c6054",
   "metadata": {},
   "outputs": [
    {
     "name": "stdout",
     "output_type": "stream",
     "text": [
      "SPAM\n"
     ]
    }
   ],
   "source": [
    "data_test = pd.DataFrame(\n",
    "    {\n",
    "    'text': [\"I'm going to be rich!\"]\n",
    "    }\n",
    ")\n",
    "predict = model.predict(data_test)\n",
    "print(predict)"
   ]
  }
 ],
 "metadata": {
  "kernelspec": {
   "display_name": "Python 3",
   "language": "python",
   "name": "python3"
  },
  "language_info": {
   "codemirror_mode": {
    "name": "ipython",
    "version": 3
   },
   "file_extension": ".py",
   "mimetype": "text/x-python",
   "name": "python",
   "nbconvert_exporter": "python",
   "pygments_lexer": "ipython3",
   "version": "3.11.5"
  }
 },
 "nbformat": 4,
 "nbformat_minor": 5
}
